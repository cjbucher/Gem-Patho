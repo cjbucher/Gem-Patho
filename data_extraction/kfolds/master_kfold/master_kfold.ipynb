{
 "cells": [
  {
   "cell_type": "code",
   "execution_count": 1,
   "metadata": {},
   "outputs": [],
   "source": [
    "import pandas as pd\n",
    "import numpy as np\n",
    "from sklearn.model_selection import StratifiedKFold, train_test_split\n",
    "import os"
   ]
  },
  {
   "cell_type": "code",
   "execution_count": 2,
   "metadata": {},
   "outputs": [],
   "source": [
    "# Input File\n",
    "input_file = '/home/chb3333/yulab/chb3333/data_extraction/wxs_sample_sheet_clean.tsv'\n",
    "\n",
    "wxs_tsv = pd.read_csv(input_file, sep='\\t')\n"
   ]
  },
  {
   "cell_type": "code",
   "execution_count": 3,
   "metadata": {},
   "outputs": [],
   "source": [
    "wxs_tsv = wxs_tsv.drop(columns=[\"Data Category\", 'Data Type', 'File ID', 'File Name', 'Sample ID','Sample Type'])"
   ]
  },
  {
   "cell_type": "code",
   "execution_count": 4,
   "metadata": {},
   "outputs": [],
   "source": [
    "tcga_wxs_tsv = wxs_tsv[wxs_tsv['Project ID'].str.contains('TCGA', regex=False, na=False)]"
   ]
  },
  {
   "cell_type": "code",
   "execution_count": 6,
   "metadata": {},
   "outputs": [],
   "source": [
    "duplicate_rows = tcga_wxs_tsv[tcga_wxs_tsv['Case ID'].duplicated(keep=False)]\n",
    "\n",
    "duplicate_rows.to_csv(\"/home/chb3333/yulab/chb3333/gem-patho/data_extraction/duplicate_handling/duplicate_caseIDs.csv\")\n",
    "# We need to then extract the one with the most mutations - latest and no errors"
   ]
  },
  {
   "cell_type": "code",
   "execution_count": 7,
   "metadata": {},
   "outputs": [],
   "source": [
    "tcga_wxs_tsv_deduplicated = tcga_wxs_tsv.drop_duplicates(keep='first')"
   ]
  },
  {
   "cell_type": "code",
   "execution_count": 8,
   "metadata": {},
   "outputs": [],
   "source": [
    "skf = StratifiedKFold(n_splits=10, shuffle=True, random_state=42)\n"
   ]
  },
  {
   "cell_type": "code",
   "execution_count": 9,
   "metadata": {},
   "outputs": [
    {
     "data": {
      "text/plain": [
       "9          TCGA-OV\n",
       "10         TCGA-OV\n",
       "11         TCGA-OV\n",
       "12         TCGA-OV\n",
       "13         TCGA-OV\n",
       "           ...    \n",
       "17757    TCGA-UCEC\n",
       "17758    TCGA-UCEC\n",
       "17759    TCGA-UCEC\n",
       "17760    TCGA-UCEC\n",
       "17761    TCGA-UCEC\n",
       "Name: Project ID, Length: 10190, dtype: object"
      ]
     },
     "execution_count": 9,
     "metadata": {},
     "output_type": "execute_result"
    }
   ],
   "source": [
    "tcga_wxs_tsv_deduplicated['Project ID']"
   ]
  },
  {
   "cell_type": "code",
   "execution_count": 10,
   "metadata": {},
   "outputs": [
    {
     "name": "stdout",
     "output_type": "stream",
     "text": [
      "Unique Project IDs:\n",
      "['TCGA-OV' 'TCGA-ESCA' 'TCGA-BRCA' 'TCGA-GBM' 'TCGA-HNSC' 'TCGA-KICH'\n",
      " 'TCGA-LGG' 'TCGA-LAML' 'TCGA-KIRC' 'TCGA-KIRP' 'TCGA-LUSC' 'TCGA-MESO'\n",
      " 'TCGA-LUAD' 'TCGA-CHOL' 'TCGA-COAD' 'TCGA-CESC' 'TCGA-DLBC' 'TCGA-ACC'\n",
      " 'TCGA-BLCA' 'TCGA-LIHC' 'TCGA-UCS' 'TCGA-UVM' 'TCGA-SARC' 'TCGA-PRAD'\n",
      " 'TCGA-READ' 'TCGA-THYM' 'TCGA-TGCT' 'TCGA-PCPG' 'TCGA-THCA' 'TCGA-STAD'\n",
      " 'TCGA-PAAD' 'TCGA-SKCM' 'TCGA-UCEC']\n"
     ]
    }
   ],
   "source": [
    "unique_project_ids = tcga_wxs_tsv_deduplicated['Project ID'].unique()\n",
    "print(\"Unique Project IDs:\")\n",
    "print(unique_project_ids)"
   ]
  },
  {
   "cell_type": "code",
   "execution_count": 11,
   "metadata": {},
   "outputs": [
    {
     "name": "stdout",
     "output_type": "stream",
     "text": [
      "Number of unique Project IDs: 33\n"
     ]
    }
   ],
   "source": [
    "unique_count = tcga_wxs_tsv_deduplicated['Project ID'].nunique()\n",
    "print(\"Number of unique Project IDs:\", unique_count)"
   ]
  },
  {
   "cell_type": "code",
   "execution_count": 12,
   "metadata": {},
   "outputs": [],
   "source": [
    "base_path = \"/home/chb3333/yulab/chb3333/gem-patho/data_extraction/kfolds/master_kfold\""
   ]
  },
  {
   "cell_type": "code",
   "execution_count": 13,
   "metadata": {},
   "outputs": [
    {
     "name": "stdout",
     "output_type": "stream",
     "text": [
      "Fold 1 saved in /home/chb3333/yulab/chb3333/gem-patho/data_extraction/kfolds/master_kfold/fold_1\n",
      "Fold 2 saved in /home/chb3333/yulab/chb3333/gem-patho/data_extraction/kfolds/master_kfold/fold_2\n",
      "Fold 3 saved in /home/chb3333/yulab/chb3333/gem-patho/data_extraction/kfolds/master_kfold/fold_3\n",
      "Fold 4 saved in /home/chb3333/yulab/chb3333/gem-patho/data_extraction/kfolds/master_kfold/fold_4\n",
      "Fold 5 saved in /home/chb3333/yulab/chb3333/gem-patho/data_extraction/kfolds/master_kfold/fold_5\n",
      "Fold 6 saved in /home/chb3333/yulab/chb3333/gem-patho/data_extraction/kfolds/master_kfold/fold_6\n",
      "Fold 7 saved in /home/chb3333/yulab/chb3333/gem-patho/data_extraction/kfolds/master_kfold/fold_7\n",
      "Fold 8 saved in /home/chb3333/yulab/chb3333/gem-patho/data_extraction/kfolds/master_kfold/fold_8\n",
      "Fold 9 saved in /home/chb3333/yulab/chb3333/gem-patho/data_extraction/kfolds/master_kfold/fold_9\n",
      "Fold 10 saved in /home/chb3333/yulab/chb3333/gem-patho/data_extraction/kfolds/master_kfold/fold_10\n"
     ]
    }
   ],
   "source": [
    "for fold, (train_index, test_index) in enumerate(skf.split(tcga_wxs_tsv_deduplicated, tcga_wxs_tsv_deduplicated['Project ID'])):\n",
    "    train_val_fold = tcga_wxs_tsv_deduplicated.iloc[train_index]\n",
    "    test_fold = tcga_wxs_tsv_deduplicated.iloc[test_index]\n",
    "\n",
    "    train_fold, val_fold = train_test_split(train_val_fold, test_size=0.1, random_state=42, shuffle=True, stratify=train_val_fold['Project ID'])\n",
    "    \n",
    "    #print(f\"Fold {fold+1}:\")\n",
    "    #print(val_fold['Project ID'].value_counts())\n",
    "\n",
    "    fold_path = os.path.join(base_path, f\"fold_{fold+1}\")\n",
    "    os.makedirs(fold_path, exist_ok=True)\n",
    "    train_file = os.path.join(fold_path, \"train.parquet\")\n",
    "    val_file   = os.path.join(fold_path, \"val.parquet\")\n",
    "    test_file  = os.path.join(fold_path, \"test.parquet\")\n",
    "\n",
    "    train_fold.to_parquet(train_file, index=False)\n",
    "    val_fold.to_parquet(val_file, index=False)\n",
    "    test_fold.to_parquet(test_file, index=False)\n",
    "    \n",
    "    print(f\"Fold {fold+1} saved in {fold_path}\")"
   ]
  },
  {
   "cell_type": "code",
   "execution_count": null,
   "metadata": {},
   "outputs": [],
   "source": []
  },
  {
   "cell_type": "code",
   "execution_count": null,
   "metadata": {},
   "outputs": [],
   "source": []
  }
 ],
 "metadata": {
  "kernelspec": {
   "display_name": "Python 3",
   "language": "python",
   "name": "python3"
  },
  "language_info": {
   "codemirror_mode": {
    "name": "ipython",
    "version": 3
   },
   "file_extension": ".py",
   "mimetype": "text/x-python",
   "name": "python",
   "nbconvert_exporter": "python",
   "pygments_lexer": "ipython3",
   "version": "3.12.8"
  }
 },
 "nbformat": 4,
 "nbformat_minor": 2
}
