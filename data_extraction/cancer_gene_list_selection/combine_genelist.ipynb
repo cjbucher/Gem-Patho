{
 "cells": [
  {
   "cell_type": "code",
   "execution_count": 1,
   "metadata": {},
   "outputs": [],
   "source": [
    "import pandas as pd"
   ]
  },
  {
   "cell_type": "code",
   "execution_count": 2,
   "metadata": {},
   "outputs": [],
   "source": [
    "census_path = '/home/chb3333/yulab/chb3333/gem-patho/data_extraction/cancer_list_selection/Census_allTue Mar 18 18_48_30 2025.tsv'\n",
    "intogen_path = '/home/chb3333/yulab/chb3333/gem-patho/data_extraction/cancer_list_selection/IntOGen-DriverGenes.tsv'\n",
    "oncokb_path = '/home/chb3333/yulab/chb3333/gem-patho/data_extraction/cancer_list_selection/OncoKB_cancerGeneList.tsv'"
   ]
  },
  {
   "cell_type": "code",
   "execution_count": 17,
   "metadata": {},
   "outputs": [],
   "source": [
    "census_tsv = pd.read_csv(census_path, sep='\\t').iloc[:, :1]\n",
    "intogen_tsv = pd.read_csv(intogen_path, sep='\\t').iloc[:, :1]\n",
    "oncokb_tsv = pd.read_csv(oncokb_path, sep='\\t').iloc[:, :1]"
   ]
  },
  {
   "cell_type": "code",
   "execution_count": 21,
   "metadata": {},
   "outputs": [],
   "source": [
    "df_census = census_tsv[[census_tsv.columns[0]]].rename(columns={census_tsv.columns[0]: \"Gene Symbol\"})\n",
    "df_intogen = intogen_tsv[[intogen_tsv.columns[0]]].rename(columns={intogen_tsv.columns[0]: \"Gene Symbol\"})\n",
    "df_oncokb = oncokb_tsv[[oncokb_tsv.columns[0]]].rename(columns={oncokb_tsv.columns[0]: \"Gene Symbol\"})"
   ]
  },
  {
   "cell_type": "code",
   "execution_count": 25,
   "metadata": {},
   "outputs": [],
   "source": [
    "stacked_genes = pd.concat([df_census, df_intogen, df_oncokb], ignore_index=True)"
   ]
  },
  {
   "cell_type": "code",
   "execution_count": null,
   "metadata": {},
   "outputs": [
    {
     "data": {
      "application/vnd.microsoft.datawrangler.viewer.v0+json": {
       "columns": [
        {
         "name": "index",
         "rawType": "int64",
         "type": "integer"
        },
        {
         "name": "Gene Symbol",
         "rawType": "object",
         "type": "string"
        }
       ],
       "conversionMethod": "pd.DataFrame",
       "ref": "549da94a-1c73-4a76-bf1b-0183b7a01118",
       "rows": [
        [
         "0",
         "A1CF"
        ],
        [
         "1",
         "ABI1"
        ],
        [
         "2",
         "ABL1"
        ],
        [
         "3",
         "ABL2"
        ],
        [
         "4",
         "ACKR3"
        ],
        [
         "5",
         "ACSL3"
        ],
        [
         "6",
         "ACSL6"
        ],
        [
         "7",
         "ACVR1"
        ],
        [
         "8",
         "ACVR1B"
        ],
        [
         "9",
         "ACVR2A"
        ],
        [
         "10",
         "AFDN"
        ],
        [
         "11",
         "AFF1"
        ],
        [
         "12",
         "AFF3"
        ],
        [
         "13",
         "AFF4"
        ],
        [
         "14",
         "AKAP9"
        ],
        [
         "15",
         "AKT1"
        ],
        [
         "16",
         "AKT2"
        ],
        [
         "17",
         "AKT3"
        ],
        [
         "18",
         "ALDH2"
        ],
        [
         "19",
         "ALK"
        ],
        [
         "20",
         "AMER1"
        ],
        [
         "21",
         "ANK1"
        ],
        [
         "22",
         "APC"
        ],
        [
         "23",
         "APOBEC3B"
        ],
        [
         "24",
         "AR"
        ],
        [
         "25",
         "ARAF"
        ],
        [
         "26",
         "ARHGAP26"
        ],
        [
         "27",
         "ARHGAP35"
        ],
        [
         "28",
         "ARHGAP5"
        ],
        [
         "29",
         "ARHGEF10"
        ],
        [
         "30",
         "ARHGEF10L"
        ],
        [
         "31",
         "ARHGEF12"
        ],
        [
         "32",
         "ARID1A"
        ],
        [
         "33",
         "ARID1B"
        ],
        [
         "34",
         "ARID2"
        ],
        [
         "35",
         "ARNT"
        ],
        [
         "36",
         "ASPM"
        ],
        [
         "37",
         "ASPSCR1"
        ],
        [
         "38",
         "ASXL1"
        ],
        [
         "39",
         "ASXL2"
        ],
        [
         "40",
         "ATF1"
        ],
        [
         "41",
         "ATIC"
        ],
        [
         "42",
         "ATM"
        ],
        [
         "43",
         "ATP1A1"
        ],
        [
         "44",
         "ATP2B3"
        ],
        [
         "45",
         "ATR"
        ],
        [
         "46",
         "ATRX"
        ],
        [
         "47",
         "AXIN1"
        ],
        [
         "48",
         "AXIN2"
        ],
        [
         "49",
         "B2M"
        ]
       ],
       "shape": {
        "columns": 1,
        "rows": 2567
       }
      },
      "text/html": [
       "<div>\n",
       "<style scoped>\n",
       "    .dataframe tbody tr th:only-of-type {\n",
       "        vertical-align: middle;\n",
       "    }\n",
       "\n",
       "    .dataframe tbody tr th {\n",
       "        vertical-align: top;\n",
       "    }\n",
       "\n",
       "    .dataframe thead th {\n",
       "        text-align: right;\n",
       "    }\n",
       "</style>\n",
       "<table border=\"1\" class=\"dataframe\">\n",
       "  <thead>\n",
       "    <tr style=\"text-align: right;\">\n",
       "      <th></th>\n",
       "      <th>Gene Symbol</th>\n",
       "    </tr>\n",
       "  </thead>\n",
       "  <tbody>\n",
       "    <tr>\n",
       "      <th>0</th>\n",
       "      <td>A1CF</td>\n",
       "    </tr>\n",
       "    <tr>\n",
       "      <th>1</th>\n",
       "      <td>ABI1</td>\n",
       "    </tr>\n",
       "    <tr>\n",
       "      <th>2</th>\n",
       "      <td>ABL1</td>\n",
       "    </tr>\n",
       "    <tr>\n",
       "      <th>3</th>\n",
       "      <td>ABL2</td>\n",
       "    </tr>\n",
       "    <tr>\n",
       "      <th>4</th>\n",
       "      <td>ACKR3</td>\n",
       "    </tr>\n",
       "    <tr>\n",
       "      <th>...</th>\n",
       "      <td>...</td>\n",
       "    </tr>\n",
       "    <tr>\n",
       "      <th>2562</th>\n",
       "      <td>ZFP36L2</td>\n",
       "    </tr>\n",
       "    <tr>\n",
       "      <th>2563</th>\n",
       "      <td>ZNF24</td>\n",
       "    </tr>\n",
       "    <tr>\n",
       "      <th>2564</th>\n",
       "      <td>ZNF292</td>\n",
       "    </tr>\n",
       "    <tr>\n",
       "      <th>2565</th>\n",
       "      <td>ZNF331</td>\n",
       "    </tr>\n",
       "    <tr>\n",
       "      <th>2566</th>\n",
       "      <td>ZNF750</td>\n",
       "    </tr>\n",
       "  </tbody>\n",
       "</table>\n",
       "<p>2567 rows × 1 columns</p>\n",
       "</div>"
      ],
      "text/plain": [
       "     Gene Symbol\n",
       "0           A1CF\n",
       "1           ABI1\n",
       "2           ABL1\n",
       "3           ABL2\n",
       "4          ACKR3\n",
       "...          ...\n",
       "2562     ZFP36L2\n",
       "2563       ZNF24\n",
       "2564      ZNF292\n",
       "2565      ZNF331\n",
       "2566      ZNF750\n",
       "\n",
       "[2567 rows x 1 columns]"
      ]
     },
     "execution_count": 24,
     "metadata": {},
     "output_type": "execute_result"
    }
   ],
   "source": [
    "stacked_genes"
   ]
  },
  {
   "cell_type": "code",
   "execution_count": 34,
   "metadata": {},
   "outputs": [],
   "source": [
    "combined_genes = stacked_genes.drop_duplicates()"
   ]
  },
  {
   "cell_type": "code",
   "execution_count": 37,
   "metadata": {},
   "outputs": [
    {
     "name": "stdout",
     "output_type": "stream",
     "text": [
      "Number of genes: 1398\n"
     ]
    }
   ],
   "source": [
    "print(\"Number of genes:\", combined_genes.size)"
   ]
  },
  {
   "cell_type": "code",
   "execution_count": 38,
   "metadata": {},
   "outputs": [],
   "source": [
    "combined_genes.to_csv(\"/home/chb3333/yulab/chb3333/gem-patho/data_extraction/cancer_list_selection/combined_genelist.csv\")"
   ]
  },
  {
   "cell_type": "code",
   "execution_count": null,
   "metadata": {},
   "outputs": [],
   "source": []
  }
 ],
 "metadata": {
  "kernelspec": {
   "display_name": "Python 3",
   "language": "python",
   "name": "python3"
  },
  "language_info": {
   "codemirror_mode": {
    "name": "ipython",
    "version": 3
   },
   "file_extension": ".py",
   "mimetype": "text/x-python",
   "name": "python",
   "nbconvert_exporter": "python",
   "pygments_lexer": "ipython3",
   "version": "3.12.8"
  }
 },
 "nbformat": 4,
 "nbformat_minor": 2
}
